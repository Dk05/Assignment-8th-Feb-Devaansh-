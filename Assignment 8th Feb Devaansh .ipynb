{
 "cells": [
  {
   "cell_type": "code",
   "execution_count": 9,
   "id": "fc609a6e",
   "metadata": {},
   "outputs": [
    {
     "data": {
      "text/plain": [
       "'This is second name'"
      ]
     },
     "execution_count": 9,
     "metadata": {},
     "output_type": "execute_result"
    }
   ],
   "source": [
    "#ANS 1 :\n",
    "\n",
    "''' ABSTRACTION is an OOPS concept where we can define an abstract or skeletal class for future classes.'''\n",
    "\n",
    "import abc\n",
    "class pw:\n",
    "    @abc.abstractmethod\n",
    "    def name(self):\n",
    "        pass\n",
    "    \n",
    "    @abc.abstractmethod\n",
    "    def roll(self):\n",
    "        pass \n",
    "    \n",
    "class N1 (pw):\n",
    "    def name (self):\n",
    "        return (\"This is first name\")\n",
    "    \n",
    "    def roll (self):\n",
    "        return (\"This is first price\")\n",
    "    \n",
    "class N2 (pw):\n",
    "    def name (self):\n",
    "        return (\"This is second name\")\n",
    "    def roll (self):\n",
    "        return (\"This is second price\")\n",
    "    \n",
    "D = N1()\n",
    "D.roll()\n",
    "N = N2()\n",
    "N.name()"
   ]
  },
  {
   "cell_type": "code",
   "execution_count": null,
   "id": "5dc0d825",
   "metadata": {},
   "outputs": [],
   "source": [
    "#ANS 2 :\n",
    "\n",
    "''' ABSTRACTION is an OOPS concept where we can define an abstract or skeletal class for future classes.\n",
    "    \n",
    "    Example : An abstract class is created contains (marks, subject_code, ) as a skeleton for classes\n",
    "    DS, AI.\n",
    "    \n",
    "    -----------------------------------------------------------------------------------------------------\n",
    "\n",
    "    ENCAPSULATION is an OOPS concept which creates a wrapper class and capsulation of data and hiding of \n",
    "    data which should not be disclosed to user.\n",
    "    \n",
    "    Example : In a banking system a bank class containing get_balance function is hided and only a specifc \n",
    "    user concerned with the account have the acess to invoke get_balance function '''\n"
   ]
  },
  {
   "cell_type": "code",
   "execution_count": null,
   "id": "9e009701",
   "metadata": {},
   "outputs": [],
   "source": [
    "#ANS 3 :\n",
    "\n",
    "''' abc module is used to declare abstract method in an aabstract class , it is used to declare abstract\n",
    "    functions in an abstract class , class abstract is defined by abc module\n",
    "    \n",
    "    syntax: \n",
    "    import abc\n",
    "    @abc abstractmethod\n",
    "    \n",
    "'''\n"
   ]
  },
  {
   "cell_type": "code",
   "execution_count": null,
   "id": "114585a6",
   "metadata": {},
   "outputs": [],
   "source": [
    "#ANS 4 :\n",
    "\n",
    "''' We can achieve data abstraction through inheritance by creating an abstract class containing abstract \n",
    "    methods and fucntions in the abstract class then inherit other classes as child classes of abstract\n",
    "    class. '''"
   ]
  },
  {
   "cell_type": "code",
   "execution_count": null,
   "id": "582a4964",
   "metadata": {},
   "outputs": [],
   "source": [
    "#ANS 5 :\n",
    "\n",
    "''' No, instances of an abstract class can't be created as an abstract class only provides abstract methods \n",
    "    and function there is no body of an abstract class  , we can create subclasses or child classes which \n",
    "    can use abstract methods and functions of the abstract class through inheritance'''"
   ]
  }
 ],
 "metadata": {
  "kernelspec": {
   "display_name": "Python 3 (ipykernel)",
   "language": "python",
   "name": "python3"
  },
  "language_info": {
   "codemirror_mode": {
    "name": "ipython",
    "version": 3
   },
   "file_extension": ".py",
   "mimetype": "text/x-python",
   "name": "python",
   "nbconvert_exporter": "python",
   "pygments_lexer": "ipython3",
   "version": "3.11.3"
  }
 },
 "nbformat": 4,
 "nbformat_minor": 5
}
